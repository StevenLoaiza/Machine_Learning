{
 "cells": [
  {
   "cell_type": "markdown",
   "metadata": {},
   "source": [
    "# Introduction"
   ]
  },
  {
   "cell_type": "markdown",
   "metadata": {},
   "source": [
    "Gini impurity measure is one of the methods used in decision tree algorithms to decide the optimal split from a root node, and subsequent splits.\n",
    "\n",
    "To put it into context, recall that a decision tree is trying to create sequential questions such that it partitions the data into smaller groups. Once the partiton is complete a predictive decision is made at this terminal node (based on a frequency)."
   ]
  },
  {
   "cell_type": "markdown",
   "metadata": {},
   "source": [
    "\\begin{equation*}\n",
    "\\begin{vmatrix}\n",
    "\\mathbf{Obs} & \\mathbf{Emotion} & \\mathbf{Temperature} & \\mathbf{Stay Home?} \\\\\n",
    "1 & Sick & Temp 98  & N \\\\\n",
    "2 & Sick & Temp 105  & Y \\\\\n",
    "3 & Not Sick & Temp 98  & Y \\\\\n",
    "4& Not Sick & Temp 98  & N \\\\\n",
    "5 & Not Sick & Temp 101  & Y \\\\\n",
    "6 & Sick & Temp 101   & N \\\\\n",
    "7 & Not Sick & Temp 99.5  & N \\\\\n",
    "8 & Not Sick & Temp 102  & Y \\\\\n",
    "\\end{vmatrix}\n",
    "\\end{equation*}"
   ]
  },
  {
   "cell_type": "markdown",
   "metadata": {},
   "source": [
    "Suppose we have a list of observations, which tells if a person decided to stay home from work. We also have two features, namely if they are sick and their temperature.\n",
    "\n",
    "We need to choose which feature, emotion or temperature, to split the data on. A Gini Impurity measure will help us make this decision.\n",
    "\n",
    "**Def:** Gini Impurity tells us what is the probability of misclassifying an observation, using the distribution from the split, from a random sample conditional on our split.\n",
    "\n",
    "Note that the lower the Gini the better the split. In otherwords the lower likelihood of misclassification."
   ]
  },
  {
   "cell_type": "markdown",
   "metadata": {},
   "source": [
    "# Formal Definition\n",
    "\n",
    "The above chart is a two class problem. We will generalize it later to a n class problem.\n",
    "\n",
    "Let **Ginx** represent the gini index.\n",
    "\\begin{equation*}\n",
    "Ginx = p_1 \\cdot (1-p_1) + p_2 \\cdot (1-p_2)\\\\\n",
    "equivalently,\\\\\n",
    "Ginx = 2 \\cdot p_1 p_2\n",
    "\\end{equation*}\n",
    "\n",
    "where $ p_1$,$p_2$ are Class 1,2 probabilities, respectively.\n",
    "\n",
    "**Note**: $p_1 + p_2 = 1$ \n",
    "\n",
    "This is not complete yet. The equation above will give us the gini impurity measure for a sub split, but we would like to know the gini impurity measure for the entire split. Therefore, we will need to weigh them accordingly.\n",
    "\n",
    "\\begin{equation*}\n",
    "Weighted Ginx = P_L \\cdot (2 \\cdot p_{L1} p_{L2}) + P_R \\cdot (2 \\cdot p_{R1} p_{R2})\n",
    "\\end{equation*}\n",
    "\n",
    "Where $P_L$ is the proportion of the split and $p_{L1}$ is anagolous to $p_1$ for the left split (same for $P_R$)"
   ]
  },
  {
   "cell_type": "code",
   "execution_count": 105,
   "metadata": {},
   "outputs": [],
   "source": [
    "def Ginx(P1,P2):\n",
    "    #P1 and P2 are the counts for each class after the split\n",
    "    denom = P1 + P2\n",
    "    Ginx = 2 * (P1/denom) * (P2/denom)\n",
    "    return(Ginx)\n",
    "\n",
    "def Wght_Ginx(G1,G2,PL,PR):\n",
    "    # G1 G2 are the gini impurity for each split, and PL PR are the proportion of the split\n",
    "    WG = PL * G1 + PR * G2\n",
    "    return(WG)"
   ]
  },
  {
   "cell_type": "code",
   "execution_count": 106,
   "metadata": {},
   "outputs": [
    {
     "data": {
      "image/png": "[encoded data removed]",
      "text/plain": [
       "<Figure size 432x288 with 1 Axes>"
      ]
     },
     "metadata": {
      "needs_background": "light"
     },
     "output_type": "display_data"
    }
   ],
   "source": [
    "import matplotlib.pyplot as plt\n",
    "import numpy as np\n",
    "import pandas as pd\n",
    "X=np.arange(0.0,1.0,0.01)\n",
    "Y=X[::-1]\n",
    "\n",
    "Gini=Ginx(X,Y)\n",
    "plt.plot(X,Gini)\n",
    "plt.axhline(y=0.5,color='r',linestyle='--')\n",
    "plt.title('Gini Impurity Graph')\n",
    "plt.xlabel('P1=1')\n",
    "plt.ylabel('Impurity Measure')\n",
    "plt.ylim([0,1.1])\n",
    "plt.show()"
   ]
  },
  {
   "cell_type": "markdown",
   "metadata": {},
   "source": [
    "We have a lower bound of zero and an upper bound of one half. The lower the impurity measure the better the split is."
   ]
  },
  {
   "cell_type": "markdown",
   "metadata": {},
   "source": [
    "## Example\n",
    "\n",
    "Lets go back to our example above and split on both features.\n",
    "\n",
    "#### Emotion\n",
    "\n",
    "Sick Gini impurity = $2 \\cdot (\\frac{2}{3}) \\cdot (\\frac{1}{3}) = 0.444$\n",
    "\n",
    "NotSick Gini Impurity = $2 \\cdot (\\frac{3}{5}) \\cdot (\\frac{2}{5}) = 0.48$ \n",
    "\n",
    "Weighted Gini Split = $ (\\frac{3}{8}) \\cdot Sick Gini + (\\frac{5}{8}) \\cdot NotSick Gini = 0.4665$\n",
    "\n",
    "#### Temperature\n",
    "We are going to hard code the threshold of temperature as Temp $\\geq$ 100.\n",
    "\n",
    "Temp over impurity = $2 \\cdot (\\frac{3}{4}) \\cdot (\\frac{1}{4}) = 0.375$\n",
    "\n",
    "Temp under Impurity = $2 \\cdot (\\frac{3}{4}) \\cdot (\\frac{1}{4}) = 0.375$ \n",
    "\n",
    "Weighted Gini Split = $ (\\frac{4}{8}) \\cdot Temp Over Gini + (\\frac{4}{8}) \\cdot Temp Under Gini = 0.375$"
   ]
  },
  {
   "cell_type": "markdown",
   "metadata": {},
   "source": [
    "We can see that Temperature has a lower Gini Measure. Therefore we would choose to split on Temperature, because it has the lowest probability of misclassifying the observation."
   ]
  },
  {
   "cell_type": "code",
   "execution_count": 109,
   "metadata": {},
   "outputs": [
    {
     "name": "stdout",
     "output_type": "stream",
     "text": [
      "   Emotion Temperature StayHome\n",
      "2  notsick       under        Y\n",
      "3  notsick       under        N\n",
      "4  notsick        over        Y\n",
      "6  notsick       under        N\n",
      "7  notsick        over        Y\n",
      "0     sick       under        N\n",
      "1     sick        over        Y\n",
      "5     sick        over        N\n"
     ]
    }
   ],
   "source": [
    "# Create Sample \n",
    "Emotion=['sick','sick','notsick','notsick','notsick','sick','notsick','notsick']\n",
    "Temperature = ['under','over','under','under','over','over','under','over']\n",
    "StayHome=['N','Y','Y','N','Y','N','N','Y']\n",
    "df=pd.DataFrame (list(zip(Emotion,Temperature,StayHome)),\n",
    "                columns=[\"Emotion\",\"Temperature\",\"StayHome\"])\n",
    "#sort it by Emotion\n",
    "df.sort_values(['Emotion'],inplace=True)\n",
    "print(df)"
   ]
  },
  {
   "cell_type": "markdown",
   "metadata": {},
   "source": [
    "We will verify that our function Gini does return the values we have above."
   ]
  },
  {
   "cell_type": "code",
   "execution_count": 108,
   "metadata": {},
   "outputs": [
    {
     "name": "stdout",
     "output_type": "stream",
     "text": [
      "Sick Gini Impurity: 0.4444444444444444\n",
      "Not Sick gini impurity: 0.48\n"
     ]
    }
   ],
   "source": [
    "a=Ginx(2,1)\n",
    "print(\"Sick Gini Impurity:\",a)\n",
    "b=Ginx(3,2)\n",
    "print(\"Not Sick gini impurity:\",b)"
   ]
  },
  {
   "cell_type": "markdown",
   "metadata": {},
   "source": [
    "# Appendix\n",
    "\n",
    "### Generalization of Gini Impurity\n",
    "\n",
    "Suppose we have $n$ different classes. Then the Gini formula will be :\n",
    "\n",
    "$Ginx = p_1 \\cdot (1-p_1) + p_2 \\cdot (1-p_2)+ ...+ p_n \\cdot (1-p_n)$\n",
    "\n",
    "where, $\\sum_{n}^{i=1} p_i = 1$ which is equivalent to $\\sum_{j \\ne i} p_j = 1-p_i$\n",
    "\n",
    "\n",
    "Therefore \n",
    "\n",
    "$Ginx = \\sum_{n}^{i=1} p_i \\cdot \\sum_{i \\ne j} \\cdot p_i = \\sum_{n}^{i=1} p_i \\cdot (1-p_i)$"
   ]
  },
  {
   "cell_type": "markdown",
   "metadata": {},
   "source": [
    "####  <font color='red'>Try and write a function that will represent the generalized Gini Impurity measure:</font> "
   ]
  }
 ],
 "metadata": {
  "kernelspec": {
   "display_name": "Python 3",
   "language": "python",
   "name": "python3"
  },
  "language_info": {
   "codemirror_mode": {
    "name": "ipython",
    "version": 3
   },
   "file_extension": ".py",
   "mimetype": "text/x-python",
   "name": "python",
   "nbconvert_exporter": "python",
   "pygments_lexer": "ipython3",
   "version": "3.7.0"
  }
 },
 "nbformat": 4,
 "nbformat_minor": 2
}
