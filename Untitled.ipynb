{
 "cells": [
  {
   "cell_type": "code",
   "execution_count": 1,
   "metadata": {},
   "outputs": [
    {
     "name": "stdout",
     "output_type": "stream",
     "text": [
      "   Emotion Temperature StayHome\n",
      "2  notsick       under        Y\n",
      "3  notsick       under        N\n",
      "4  notsick        over        Y\n",
      "6  notsick       under        N\n",
      "7  notsick        over        Y\n",
      "0     sick       under        N\n",
      "1     sick        over        Y\n",
      "5     sick        over        N\n"
     ]
    }
   ],
   "source": [
    "# Create Sample \n",
    "import pandas as pd\n",
    "data={'Emotion':['sick','sick','notsick','notsick','notsick','sick','notsick','notsick'],'Temperature':['under','over','under','under','over','over','under','over'],'StayHome':['N','Y','Y','N','Y','N','N','Y']}\n",
    "df=pd.DataFrame (data)\n",
    "#sort it by Emotion\n",
    "df.sort_values(['Emotion'],inplace=True)\n",
    "print(df)\n"
   ]
  },
  {
   "cell_type": "code",
   "execution_count": 5,
   "metadata": {},
   "outputs": [
    {
     "name": "stdout",
     "output_type": "stream",
     "text": [
      "  Emotion Temperature StayHome\n",
      "0    sick       under        N\n",
      "1    sick        over        Y\n",
      "5    sick        over        N \n",
      "\n",
      "   Emotion Temperature StayHome\n",
      "2  notsick       under        Y\n",
      "3  notsick       under        N\n",
      "4  notsick        over        Y\n",
      "6  notsick       under        N\n",
      "7  notsick        over        Y \n",
      "\n"
     ]
    }
   ],
   "source": [
    "print(df[df.Emotion=='sick'],\"\\n\")\n",
    "print(df[df.Emotion=='notsick'],\"\\n\")"
   ]
  },
  {
   "cell_type": "code",
   "execution_count": 11,
   "metadata": {},
   "outputs": [],
   "source": [
    "def entropy(col,df,option=2):\n",
    "# Takes the column number and data frame as an input\n",
    "    #Grabs the column we specify and the last column (which we assume is the decision col)\n",
    "    new_df=df.iloc[:,[col,len(df.columns)-1]]\n",
    "    #rename the columns\n",
    "    new_df.columns=('col1','col2')\n",
    "    #return the unique values in this feature along with their counts\n",
    "    names,count=np.unique(new_df.col1,return_counts=True)\n",
    "    \n",
    "    \n",
    "    #create an empty list\n",
    "    entropy_list=list()\n",
    "    \n",
    "    #for loop on each split to get the entry at the split\n",
    "    for i in range(0,(len(names))):\n",
    "            if(option==2):\n",
    "                dff=new_df[new_df.col1==names[i]]\n",
    "                entropy_list.append(count[i])\n",
    "                entropy_list.append(names[i])\n",
    "            else:\n",
    "                dff=new_df\n",
    "            den=len(dff)\n",
    "            columns=new_df.col2.unique()\n",
    "            p1 = dff.col2.eq(columns[0]).sum()/den\n",
    "            p2 = dff.col2.eq(columns[1]).sum()/den\n",
    "            P=[p1,p2]\n",
    "            ent=0\n",
    "            k=0\n",
    "            for p in P:\n",
    "                k=k+1\n",
    "                ent += -p * math.log(p,2)\n",
    "                if(k==len(P)):\n",
    "                    entropy_list.append(ent)\n",
    "    return entropy_list"
   ]
  },
  {
   "cell_type": "code",
   "execution_count": 13,
   "metadata": {},
   "outputs": [
    {
     "name": "stdout",
     "output_type": "stream",
     "text": [
      "Entropy for Emotion Split ['notsick', 0.9709505944546686]\n",
      "Confirm 0.9709505944546686 \n",
      "\n",
      "Entropy for Emotion Split ['sick', 0.9182958340544896]\n",
      "Confirm 0.9182958340544896\n"
     ]
    }
   ],
   "source": [
    "import numpy as np\n",
    "import math\n",
    "\n",
    "print(\"Entropy for Emotion Split\",entropy(0,df)[1:3])\n",
    "print(\"Confirm\",-(3/5)*math.log((3/5),2)-(2/5)*math.log((2/5),2),\"\\n\")\n",
    "print(\"Entropy for Emotion Split\",entropy(0,df)[4:6])\n",
    "print(\"Confirm\",-(1/3)*math.log((1/3),2)-(2/3)*math.log((2/3),2))"
   ]
  }
 ],
 "metadata": {
  "kernelspec": {
   "display_name": "Python 3",
   "language": "python",
   "name": "python3"
  },
  "language_info": {
   "codemirror_mode": {
    "name": "ipython",
    "version": 3
   },
   "file_extension": ".py",
   "mimetype": "text/x-python",
   "name": "python",
   "nbconvert_exporter": "python",
   "pygments_lexer": "ipython3",
   "version": "3.7.4"
  },
  "toc": {
   "base_numbering": 1,
   "nav_menu": {},
   "number_sections": true,
   "sideBar": true,
   "skip_h1_title": false,
   "title_cell": "Table of Contents",
   "title_sidebar": "Contents",
   "toc_cell": false,
   "toc_position": {},
   "toc_section_display": true,
   "toc_window_display": false
  }
 },
 "nbformat": 4,
 "nbformat_minor": 2
}
