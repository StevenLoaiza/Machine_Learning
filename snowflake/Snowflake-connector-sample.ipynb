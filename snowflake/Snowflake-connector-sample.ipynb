{
 "cells": [
  {
   "cell_type": "markdown",
   "id": "793959a1-fb1d-408e-b765-054331ba4827",
   "metadata": {},
   "source": [
    "## Snowflake Connector Sample Notebook"
   ]
  },
  {
   "cell_type": "code",
   "execution_count": 1,
   "id": "02667d23-4f27-4bc9-b90b-7cf62ff917dd",
   "metadata": {},
   "outputs": [],
   "source": [
    "import yaml\n",
    "config = yaml.load(open('./config.yaml', 'rb'), Loader=yaml.FullLoader)\n",
    "from sfutils import *\n",
    "sf_connect = SnowflakeSetup(config['snowflake'])\n",
    "ctx = sf_connect.ctx"
   ]
  },
  {
   "cell_type": "markdown",
   "id": "2bdf2d39-0bef-499f-a30d-24c7caa4cf6e",
   "metadata": {},
   "source": [
    "### Example from SnowFlake (Will Fail)\n",
    "source: https://docs.snowflake.com/en/user-guide/python-connector-api.html#write_pandas"
   ]
  },
  {
   "cell_type": "code",
   "execution_count": 7,
   "id": "ec111ac5-4833-4439-90a2-89bae3fc2aaa",
   "metadata": {},
   "outputs": [
    {
     "name": "stdout",
     "output_type": "stream",
     "text": [
      "\u001b[91m WARNING: Snowflake Error SQL compliation Error Table acustomer does not exist\n"
     ]
    }
   ],
   "source": [
    "# Example from SnowFlake (Will Fail)\n",
    "from snowflake.connector.pandas_tools import write_pandas\n",
    "import pandas\n",
    "df = pandas.DataFrame([('Mark', 10), ('Luke', 20)], columns=['name', 'balance'])\n",
    "\n",
    "# Mask the error with try/except\n",
    "try:\n",
    "    success, nchunks, nrows, _ = write_pandas(ctx, df, 'acustomer')\n",
    "except:\n",
    "    print('\\033[91m WARNING: Snowflake Error SQL compliation Error Table '\"acustomer\"' does not exist')"
   ]
  },
  {
   "cell_type": "markdown",
   "id": "b37e6157-4bd5-47d2-abb1-06dd22824049",
   "metadata": {},
   "source": [
    "### Using Snowflake Util will run without errors"
   ]
  },
  {
   "cell_type": "code",
   "execution_count": 10,
   "id": "ea48df6b-88ad-42d4-9ece-3a8ef85fb267",
   "metadata": {},
   "outputs": [
    {
     "name": "stdout",
     "output_type": "stream",
     "text": [
      "\u001b[92m SUCCESS\n"
     ]
    }
   ],
   "source": [
    "# Using Snowflake Util will run without errors\n",
    "try:\n",
    "    sf_connect.write_to_sf(df, 'acustomers', 'replace')\n",
    "    print('\\033[92m SUCCESS')\n",
    "except:\n",
    "    raise"
   ]
  },
  {
   "cell_type": "markdown",
   "id": "9586bbbd-3236-4984-aca0-3d1f7d90958b",
   "metadata": {},
   "source": [
    "## Multi SQL Statements Comparison"
   ]
  },
  {
   "cell_type": "code",
   "execution_count": 18,
   "id": "1fdbb59b-f483-4e39-bab2-d44d5d8c58cc",
   "metadata": {},
   "outputs": [],
   "source": [
    "conn = sf_connect.ctx\n",
    "sql_string = \"\"\"\n",
    "    SELECT * FROM [ENTER YOUR TABLE NAME] --7.4 million\n",
    "    ;\n",
    "    SELECT * FROM [ENTER YOUR TABLE NAME] --19 rows\n",
    "    ;\n",
    "\"\"\""
   ]
  },
  {
   "cell_type": "code",
   "execution_count": 21,
   "id": "964dc6a8-8751-4090-96eb-8f3125077118",
   "metadata": {},
   "outputs": [
    {
     "name": "stdout",
     "output_type": "stream",
     "text": [
      "214 ms ± 29.9 ms per loop (mean ± std. dev. of 10 runs, 7 loops each)\n"
     ]
    }
   ],
   "source": [
    "%%timeit -n 7 -r 10\n",
    "# built in snowflake connector method\n",
    "conn.execute_string(sql_string)"
   ]
  },
  {
   "cell_type": "code",
   "execution_count": 22,
   "id": "b2ad27b1-73dd-46ef-a457-990cd502172b",
   "metadata": {},
   "outputs": [
    {
     "name": "stdout",
     "output_type": "stream",
     "text": [
      "211 ms ± 17.8 ms per loop (mean ± std. dev. of 10 runs, 7 loops each)\n"
     ]
    }
   ],
   "source": [
    "%%timeit -n 7 -r 10\n",
    "# User defined utility function\n",
    "sf_connect.run_sf_multi_sql(sql_string)"
   ]
  }
 ],
 "metadata": {
  "kernelspec": {
   "display_name": "Python 3.8 - AzureML",
   "language": "python",
   "name": "python38-azureml"
  },
  "language_info": {
   "codemirror_mode": {
    "name": "ipython",
    "version": 3
   },
   "file_extension": ".py",
   "mimetype": "text/x-python",
   "name": "python",
   "nbconvert_exporter": "python",
   "pygments_lexer": "ipython3",
   "version": "3.8.1"
  }
 },
 "nbformat": 4,
 "nbformat_minor": 5
}
