{
 "cells": [
  {
   "cell_type": "markdown",
   "metadata": {
    "toc": true
   },
   "source": [
    "<h1>Table of Contents<span class=\"tocSkip\"></span></h1>\n",
    "<div class=\"toc\"><ul class=\"toc-item\"><li><span><a href=\"#Machine-Learning\" data-toc-modified-id=\"Machine-Learning-1\"><span class=\"toc-item-num\">1&nbsp;&nbsp;</span>Machine Learning</a></span></li><li><span><a href=\"#Introduction--\" data-toc-modified-id=\"Introduction---2\"><span class=\"toc-item-num\">2&nbsp;&nbsp;</span>Introduction <a id=\"intro\"> </a></a></span></li><li><span><a href=\"#Supervised-Learning-\" data-toc-modified-id=\"Supervised-Learning--3\"><span class=\"toc-item-num\">3&nbsp;&nbsp;</span>Supervised Learning <a id=\"s_learn\"></a></a></span><ul class=\"toc-item\"><li><span><a href=\"#Linear-Regression-\" data-toc-modified-id=\"Linear-Regression--3.1\"><span class=\"toc-item-num\">3.1&nbsp;&nbsp;</span>Linear Regression <a id=\"linear\"></a></a></span><ul class=\"toc-item\"><li><span><a href=\"#Gathering-Data\" data-toc-modified-id=\"Gathering-Data-3.1.1\"><span class=\"toc-item-num\">3.1.1&nbsp;&nbsp;</span>Gathering Data</a></span></li><li><span><a href=\"#Data-Preparation\" data-toc-modified-id=\"Data-Preparation-3.1.2\"><span class=\"toc-item-num\">3.1.2&nbsp;&nbsp;</span>Data Preparation</a></span></li><li><span><a href=\"#Choosing-a-Model\" data-toc-modified-id=\"Choosing-a-Model-3.1.3\"><span class=\"toc-item-num\">3.1.3&nbsp;&nbsp;</span>Choosing a Model</a></span></li><li><span><a href=\"#Training\" data-toc-modified-id=\"Training-3.1.4\"><span class=\"toc-item-num\">3.1.4&nbsp;&nbsp;</span>Training</a></span></li><li><span><a href=\"#Evaluation\" data-toc-modified-id=\"Evaluation-3.1.5\"><span class=\"toc-item-num\">3.1.5&nbsp;&nbsp;</span>Evaluation</a></span></li></ul></li></ul></li></ul></div>"
   ]
  },
  {
   "cell_type": "markdown",
   "metadata": {},
   "source": [
    "# Machine Learning\n",
    "\n",
    "A brief introduction to machine learning."
   ]
  },
  {
   "cell_type": "markdown",
   "metadata": {},
   "source": [
    "# Introduction <a id=intro> </a>\n",
    "\n",
    "Algorithms are the basis of solving problems with a computer. We need a set of direction to tell the computer to run, in order to turn input into output. For example, we can develop an algorithm to trim observations\n",
    "with values of NA. We would ask the computer to take a dataset as an input, look at the rows of a certain column and if that column returns NA, it would remove the column.\n",
    "\n",
    "There may be some problem, that an algorithm does not exist, or would be very difficult to create. In other words, we are unable to transform the input easily into an output. Fortunately, if we have a large dataset we can us the computer (machine) to extract the algorithm for us. We do not need to know the data generating process for the data, but we can use patterns from the data to provide a useful approximation.\n",
    "\n",
    "This approximation can later be used to make predictions, assuming that the pattern would continue on unobserved data."
   ]
  },
  {
   "cell_type": "markdown",
   "metadata": {},
   "source": [
    "# Supervised Learning <a id=s_learn></a>\n",
    "\n",
    "Using inputs (independent variables) to predict the values of the outputs (dependent variable) is called **supervised learning**.\n",
    "\n",
    "Our dependent variable can be categorical(qualitative) or numerical (continuous, or discrete). Some of the terminology in machine learning(ML) is that **regression** are for quantitaive outputs and **classification** are for qualitative outputs."
   ]
  },
  {
   "cell_type": "markdown",
   "metadata": {},
   "source": [
    "## Linear Regression <a id=linear></a>\n",
    "The linear model is the simplest form of predicting values. Here we are stating that the independent variables\n",
    "affect the dependent variable linearly.\n",
    "\\begin{equation*}\n",
    "\\hat{Y} = \\hat{\\beta_0} + \\sum^{J}_{j=1} x_j \\hat{\\beta_j}=X^T\\hat{\\beta}\n",
    "\\end{equation*}\n",
    "\n",
    "The intercept is known as the bias in ML, while the other betas are the corresponding coefficients for the independent varibles. The betas represent the partial derivative with respect to the independent variable.\n",
    "\n",
    "Lets begin our process of Machine Learning:"
   ]
  },
  {
   "cell_type": "markdown",
   "metadata": {},
   "source": [
    "### Gathering Data\n",
    "\n",
    "We begin by setting a seed, the number inside the parenthesis is arbitrary. The reason we set a seed is\n",
    "so that we obtain the same random variables when ever we rerun the code, thus getting the same results.\n",
    "We will sample one thousand observation from the uniform distribution with di\u001berent ranges. Then we will\n",
    "produce an output. Observe that our linear model intersept is set to zero, and we have de\u001c",
    "ned our betas.\n",
    "In essence this is the population linear model, the actuall data generating process.\n"
   ]
  },
  {
   "cell_type": "code",
   "execution_count": 1,
   "metadata": {},
   "outputs": [
    {
     "data": {
      "text/plain": [
       "       y                  x1                  x2          \n",
       " Min.   :0.009879   Min.   :0.0009545   Min.   :0.002781  \n",
       " 1st Qu.:0.272609   1st Qu.:0.1806411   1st Qu.:0.244862  \n",
       " Median :0.390394   Median :0.3727318   Median :0.508171  \n",
       " Mean   :0.383089   Mean   :0.3614634   Mean   :0.505893  \n",
       " 3rd Qu.:0.495837   3rd Qu.:0.5339685   3rd Qu.:0.762016  \n",
       " Max.   :0.737228   Max.   :0.6996580   Max.   :0.998414  "
      ]
     },
     "metadata": {},
     "output_type": "display_data"
    }
   ],
   "source": [
    "#------------------------------------------------\n",
    "# Gather the Data\n",
    "#------------------------------------------------\n",
    "set.seed(501)\n",
    "\n",
    "n=1000\n",
    "x1<-runif(n,min=0,max=.7)\n",
    "x2<-runif(n,min=0,max=1)\n",
    "y<-0.5*x1+0.4*x2 \n",
    "\n",
    "data<-as.data.frame(cbind(y,x1,x2))\n",
    "summary(data)"
   ]
  },
  {
   "cell_type": "markdown",
   "metadata": {},
   "source": [
    "The Output values range from ~0.01 to ~0.74 with a mean of ~0.38, approximately. One thing to notice is\n",
    "that the independent variables are within the same range, by construction. There may be time when we will\n",
    "have to normalize the data, that way the magnitude of one variable does not over power the predictiveness\n",
    "of ML."
   ]
  },
  {
   "cell_type": "markdown",
   "metadata": {},
   "source": [
    "### Data Preparation\n",
    "\n",
    "Lets create a rule for our output. From the summary of the data we say that the mean of the output data\n",
    "was about 0.4, therefore we will classify the output as such: values greater than 0.4 are red, otherwise they\n",
    "are blue. Since we are using a linear model, we will code the outputs as a 0-1 dummary variable, 1=blue.\n",
    "\n",
    "Using the mean will allow our data to have even amount of reds and blues, which again will help avoid\n",
    "having one of the outputs outweight the other."
   ]
  },
  {
   "cell_type": "code",
   "execution_count": 4,
   "metadata": {},
   "outputs": [
    {
     "data": {
      "text/html": [
       "<table>\n",
       "<thead><tr><th scope=col>Red</th><th scope=col>Blue</th></tr></thead>\n",
       "<tbody>\n",
       "\t<tr><td>0  </td><td>470</td></tr>\n",
       "\t<tr><td>1  </td><td>530</td></tr>\n",
       "</tbody>\n",
       "</table>\n"
      ],
      "text/latex": [
       "\\begin{tabular}{r|ll}\n",
       " Red & Blue\\\\\n",
       "\\hline\n",
       "\t 0   & 470\\\\\n",
       "\t 1   & 530\\\\\n",
       "\\end{tabular}\n"
      ],
      "text/markdown": [
       "\n",
       "| Red | Blue |\n",
       "|---|---|\n",
       "| 0   | 470 |\n",
       "| 1   | 530 |\n",
       "\n"
      ],
      "text/plain": [
       "  Red Blue\n",
       "1 0   470 \n",
       "2 1   530 "
      ]
     },
     "metadata": {},
     "output_type": "display_data"
    }
   ],
   "source": [
    "\n",
    "#------------------------------------------------\n",
    "# Prepare Data\n",
    "#------------------------------------------------\n",
    "Recode<- function(y)\n",
    "{\n",
    "  \n",
    "  if(y>.4)\n",
    "  {y<-0}\n",
    "  \n",
    "  else{y<-1}\n",
    "}\n",
    "#apply function above to each row\n",
    "data$y<-as.data.frame(sapply(y,Recode))\n",
    "\n",
    "#create a table and rename col\n",
    "Freqtable<-data.frame(table(data$y))\n",
    "colnames(Freqtable)<-c(\"Red\",\"Blue\")\n",
    "#print\n",
    "Freqtable"
   ]
  },
  {
   "cell_type": "markdown",
   "metadata": {},
   "source": [
    "### Choosing a Model\n",
    "Since we know what the actual model is , we will choose a linear model. Our initial guess for our model will\n",
    "be :\n",
    "\n",
    "\\begin{equation*}\n",
    "Y=0.5X_1+0.4X_2\n",
    "\\end{equation*}"
   ]
  },
  {
   "cell_type": "markdown",
   "metadata": {},
   "source": [
    "### Training \n",
    "<a id=\"train\"></a>\n",
    "Given our specification of the model above, we will use it on our training Data and get our output. This is\n",
    "simple just specify the columns for each of the independent variables, and then recode the output values as\n",
    "we did earlier. Try it out for youself before seeing the code in the next section."
   ]
  },
  {
   "cell_type": "markdown",
   "metadata": {},
   "source": [
    "### Evaluation\n",
    "\n",
    "This is where the bulk of the ML starts. We need to evaluate how well our initial model did against the\n",
    "training data. We are able to evaluate the preformance because we know the actual values of Y.\n",
    "In order to create a ML process , we will need to update our parameters given some Loss value. Loss\n",
    "would be the calculation of how many output variables we predicted incorrectly. Below I will write some ad\n",
    "psuedo code:"
   ]
  },
  {
   "cell_type": "markdown",
   "metadata": {},
   "source": [
    "<div class=\"alert alert-block alert-warning\">\n",
    "<b>Example:</b> \n",
    "    function(Initial Values){ <br>\n",
    "parameters= Initial Values <br>\n",
    "RunModel(parameters) <br>\n",
    "if (LossValue gt epsilon) <br>\n",
    "{return Y} <br>\n",
    "else parameters<-updateValues}\n",
    "</div>"
   ]
  },
  {
   "cell_type": "markdown",
   "metadata": {},
   "source": [
    "If we were to run this code it will give us the best predictive values,but it may take a very long time for\n",
    "us to get the LossValue below some threshold. Instead we will initialize the number of times we want it to\n",
    "run the iteration.\n",
    "First we will see how well our first guess, or initial values do in our linear model. With our initial guess\n",
    "we have predicted the correct values 77% of the time. Now lets build our ML model to iterate over different\n",
    "values of coe\u001e",
    "cients and find the one with the best accuracy.\n",
    "You will note that I have defined the size of the Accuracy and ypred vector prior to the loop, this is to\n",
    "save on speed and not have the vector changing size as the loop continues."
   ]
  },
  {
   "cell_type": "code",
   "execution_count": 6,
   "metadata": {},
   "outputs": [
    {
     "data": {
      "text/html": [
       "'The Accuracy is: 77.3 percent'"
      ],
      "text/latex": [
       "'The Accuracy is: 77.3 percent'"
      ],
      "text/markdown": [
       "'The Accuracy is: 77.3 percent'"
      ],
      "text/plain": [
       "[1] \"The Accuracy is: 77.3 percent\""
      ]
     },
     "metadata": {},
     "output_type": "display_data"
    }
   ],
   "source": [
    "#-------------------------\n",
    "#Training\n",
    "#-------------------------\n",
    "n=4\n",
    "intb1<-0.0\n",
    "intb2<-0.8\n",
    "Accuracy<-rep(0,n)\n",
    "y_pred<-as.data.frame(matrix(0,nrow=nrow(data),ncol=n))\n",
    "\n",
    "b1<-intb1\n",
    "b2<-intb2\n",
    "\n",
    "y_pred[,1]<-b1*data$x1+b2*data$x2\n",
    "#recode the predictions to a binary classification\n",
    "ypred[,1]<-as.data.frame(sapply(y_pred[,1],Recode))\n",
    "data$ypred<-ypred[,1]\n",
    "Accuracy[1]<-mean(data$y==ypred[,1])\n",
    "sprintf(\"The Accuracy is: %g percent\",Accuracy[1]*100)"
   ]
  },
  {
   "cell_type": "markdown",
   "metadata": {},
   "source": [
    "Next we will build our ML model. Let create a vector of the betas, called B, and also a vector or values\n",
    "that we will call A and C. The vector A and C will be used to update the values of B. The values in A and\n",
    "C were chosen arbitrarily. Since we know that the values of the original Y's before the tranformation are\n",
    "below 1, then the change in our beta should not be large and should also be below 1. Therefore we use two\n",
    "assumptions that in order to increase the accuracy either both betas increase or one does with the other\n",
    "decreases.\n",
    "\n",
    "Now for our function, it takes our initial guesses as inputs, then it transforms them starting with assumption\n",
    "A, again arbitrary choice. We begin our loop and calculate our new prediciton and its accuracy<a href=\"#ref1\">[1]</a>. If\n",
    "our new accuracy parameter is larger than the previous accuracy parameter from our training section then\n",
    "update using assumption A. Once the loop is done, we check which entry in our vector is the one with the\n",
    "highest accuracy and then we return the value as well as the corresponding ypred vector. Finally we run the\n",
    "code and view the data side by side , with our True Y values and our first prediciton.\n",
    "\n",
    "<a id=\"ref1\">[1]</a>your footer text Our for loop starts from i=2 because our vector ypred's first column is the prediction from section<a href=\"#train\"> Training</a>."
   ]
  }
 ],
 "metadata": {
  "kernelspec": {
   "display_name": "R",
   "language": "R",
   "name": "ir"
  },
  "language_info": {
   "codemirror_mode": "r",
   "file_extension": ".r",
   "mimetype": "text/x-r-source",
   "name": "R",
   "pygments_lexer": "r",
   "version": "3.6.1"
  },
  "toc": {
   "base_numbering": 1,
   "nav_menu": {},
   "number_sections": true,
   "sideBar": true,
   "skip_h1_title": false,
   "title_cell": "Table of Contents",
   "title_sidebar": "Contents",
   "toc_cell": true,
   "toc_position": {
    "height": "calc(100% - 180px)",
    "left": "10px",
    "top": "150px",
    "width": "165px"
   },
   "toc_section_display": true,
   "toc_window_display": true
  }
 },
 "nbformat": 4,
 "nbformat_minor": 4
}
