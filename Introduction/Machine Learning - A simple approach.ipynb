{
 "cells": [
  {
   "cell_type": "markdown",
   "metadata": {
    "toc": true
   },
   "source": [
    "<h1>Table of Contents<span class=\"tocSkip\"></span></h1>\n",
    "<div class=\"toc\"><ul class=\"toc-item\"><li><span><a href=\"#Introduction\" data-toc-modified-id=\"Introduction-1\"><span class=\"toc-item-num\">1&nbsp;&nbsp;</span>Introduction</a></span></li><li><span><a href=\"#Supervised-Learning\" data-toc-modified-id=\"Supervised-Learning-2\"><span class=\"toc-item-num\">2&nbsp;&nbsp;</span>Supervised Learning</a></span><ul class=\"toc-item\"><li><span><a href=\"#Linear-Regression\" data-toc-modified-id=\"Linear-Regression-2.1\"><span class=\"toc-item-num\">2.1&nbsp;&nbsp;</span>Linear Regression</a></span><ul class=\"toc-item\"><li><span><a href=\"#Gathering-Data\" data-toc-modified-id=\"Gathering-Data-2.1.1\"><span class=\"toc-item-num\">2.1.1&nbsp;&nbsp;</span>Gathering Data</a></span></li><li><span><a href=\"#Data-Preparation\" data-toc-modified-id=\"Data-Preparation-2.1.2\"><span class=\"toc-item-num\">2.1.2&nbsp;&nbsp;</span>Data Preparation</a></span></li><li><span><a href=\"#Choosing-a-Model\" data-toc-modified-id=\"Choosing-a-Model-2.1.3\"><span class=\"toc-item-num\">2.1.3&nbsp;&nbsp;</span>Choosing a Model</a></span></li><li><span><a href=\"#Training\" data-toc-modified-id=\"Training-2.1.4\"><span class=\"toc-item-num\">2.1.4&nbsp;&nbsp;</span>Training</a></span></li><li><span><a href=\"#Evaluation\" data-toc-modified-id=\"Evaluation-2.1.5\"><span class=\"toc-item-num\">2.1.5&nbsp;&nbsp;</span>Evaluation</a></span></li><li><span><a href=\"#Visualization\" data-toc-modified-id=\"Visualization-2.1.6\"><span class=\"toc-item-num\">2.1.6&nbsp;&nbsp;</span>Visualization</a></span></li><li><span><a href=\"#Parameter-Tuning\" data-toc-modified-id=\"Parameter-Tuning-2.1.7\"><span class=\"toc-item-num\">2.1.7&nbsp;&nbsp;</span>Parameter Tuning</a></span></li></ul></li><li><span><a href=\"#Exercise\" data-toc-modified-id=\"Exercise-2.2\"><span class=\"toc-item-num\">2.2&nbsp;&nbsp;</span>Exercise</a></span></li><li><span><a href=\"#K---Nearest-Neighborhood-Method\" data-toc-modified-id=\"K---Nearest-Neighborhood-Method-2.3\"><span class=\"toc-item-num\">2.3&nbsp;&nbsp;</span>K - Nearest Neighborhood Method</a></span><ul class=\"toc-item\"><li><span><a href=\"#KNN-Algorithm-Pseudocode:\" data-toc-modified-id=\"KNN-Algorithm-Pseudocode:-2.3.1\"><span class=\"toc-item-num\">2.3.1&nbsp;&nbsp;</span>KNN Algorithm Pseudocode:</a></span></li><li><span><a href=\"#Gathering-Data\" data-toc-modified-id=\"Gathering-Data-2.3.2\"><span class=\"toc-item-num\">2.3.2&nbsp;&nbsp;</span>Gathering Data</a></span></li><li><span><a href=\"#Data-Preperation\" data-toc-modified-id=\"Data-Preperation-2.3.3\"><span class=\"toc-item-num\">2.3.3&nbsp;&nbsp;</span>Data Preperation</a></span></li><li><span><a href=\"#Choose-Model-and-Training\" data-toc-modified-id=\"Choose-Model-and-Training-2.3.4\"><span class=\"toc-item-num\">2.3.4&nbsp;&nbsp;</span>Choose Model and Training</a></span></li><li><span><a href=\"#Evaluation\" data-toc-modified-id=\"Evaluation-2.3.5\"><span class=\"toc-item-num\">2.3.5&nbsp;&nbsp;</span>Evaluation</a></span></li><li><span><a href=\"#Parameter-Tuning\" data-toc-modified-id=\"Parameter-Tuning-2.3.6\"><span class=\"toc-item-num\">2.3.6&nbsp;&nbsp;</span>Parameter Tuning</a></span></li></ul></li><li><span><a href=\"#Additional-Notes:\" data-toc-modified-id=\"Additional-Notes:-2.4\"><span class=\"toc-item-num\">2.4&nbsp;&nbsp;</span>Additional Notes:</a></span></li></ul></li><li><span><a href=\"#Conclusion\" data-toc-modified-id=\"Conclusion-3\"><span class=\"toc-item-num\">3&nbsp;&nbsp;</span>Conclusion</a></span></li></ul></div>"
   ]
  },
  {
   "cell_type": "markdown",
   "metadata": {},
   "source": [
    "# Introduction \n",
    "\n",
    "Algorithms are the basis of solving problems with a computer. We need a set of direction to tell the computer to run, in order to turn input into output. For example, we can develop an algorithm to trim observations\n",
    "with values of NA. We would ask the computer to take a dataset as an input, look at the rows of a certain column and if that column returns NA, it would remove the column.\n",
    "\n",
    "There may be some problem, that an algorithm does not exist, or would be very difficult to create. In other words, we are unable to transform the input easily into an output. Fortunately, if we have a large dataset we can us the computer (machine) to extract the algorithm for us. We do not need to know the data generating process for the data, but we can use patterns from the data to provide a useful approximation.\n",
    "\n",
    "This approximation can later be used to make predictions, assuming that the pattern would continue on unobserved data."
   ]
  },
  {
   "cell_type": "markdown",
   "metadata": {},
   "source": [
    "# Supervised Learning \n",
    "\n",
    "Using inputs (independent variables) to predict the values of the outputs (dependent variable) is called **supervised learning**.\n",
    "\n",
    "Our dependent variable can be categorical(qualitative) or numerical (continuous, or discrete). Some of the terminology in machine learning(ML) is that **regression** are for quantitaive outputs and **classification** are for qualitative outputs."
   ]
  },
  {
   "cell_type": "markdown",
   "metadata": {},
   "source": [
    "## Linear Regression \n",
    "The linear model is the simplest form of predicting values. Here we are stating that the independent variables\n",
    "affect the dependent variable linearly.\n",
    "\n",
    "\\begin{equation*}\n",
    "\\hat{Y} = \\hat{\\beta}_0 + \\sum^{J}_{j=1} x_j \\hat{\\beta}_j=X^T \\hat{\\beta}\n",
    "\\end{equation*}\n",
    "\n",
    "The intercept is known as the bias in ML, while the other betas are the corresponding coefficients for the independent varibles. The betas represent the partial derivative with respect to the independent variable.\n",
    "\n",
    "Lets begin our process of Machine Learning:"
   ]
  },
  {
   "cell_type": "markdown",
   "metadata": {},
   "source": [
    "### Gathering Data\n",
    "\n",
    "We begin by setting a seed, the number inside the parenthesis is arbitrary. The reason we set a seed is\n",
    "so that we obtain the same random variables when ever we rerun the code, thus getting the same results.\n",
    "We will sample one thousand observation from the uniform distribution with different ranges. Then we will\n",
    "produce an output. Observe that our linear model intercept is set to zero, and we have defined our betas.\n",
    "In essence this is the population linear model, the true data generating process.\n"
   ]
  },
  {
   "cell_type": "code",
   "execution_count": 77,
   "metadata": {},
   "outputs": [
    {
     "data": {
      "text/plain": [
       "       y                  x1                  x2          \n",
       " Min.   :0.009879   Min.   :0.0009545   Min.   :0.002781  \n",
       " 1st Qu.:0.272609   1st Qu.:0.1806411   1st Qu.:0.244862  \n",
       " Median :0.390394   Median :0.3727318   Median :0.508171  \n",
       " Mean   :0.383089   Mean   :0.3614634   Mean   :0.505893  \n",
       " 3rd Qu.:0.495837   3rd Qu.:0.5339685   3rd Qu.:0.762016  \n",
       " Max.   :0.737228   Max.   :0.6996580   Max.   :0.998414  "
      ]
     },
     "metadata": {},
     "output_type": "display_data"
    }
   ],
   "source": [
    "#------------------------------------------------\n",
    "# Gather the Data\n",
    "#------------------------------------------------\n",
    "set.seed(501)\n",
    "\n",
    "n=1000\n",
    "x1<-runif(n,min=0,max=.7)\n",
    "x2<-runif(n,min=0,max=1)\n",
    "y<-0.5*x1+0.4*x2 \n",
    "\n",
    "data<-as.data.frame(cbind(y,x1,x2))\n",
    "summary(data)"
   ]
  },
  {
   "cell_type": "markdown",
   "metadata": {},
   "source": [
    "The Output values range from ~0.01 to ~0.74 with a mean of ~0.38, approximately. One thing to notice is\n",
    "that the independent variables are within the same range, by construction. There may be time when we will\n",
    "have to normalize the data, that way the magnitude of one variable does not over power the predictiveness\n",
    "of ML."
   ]
  },
  {
   "cell_type": "markdown",
   "metadata": {},
   "source": [
    "### Data Preparation\n",
    "\n",
    "Lets create a rule for our output. From the summary of the data we say that the mean of the output data\n",
    "was about 0.4, therefore we will classify the output as such: values greater than 0.4 are red, otherwise they\n",
    "are blue. Since we are using a linear model, we will code the outputs as a 0-1 dummary variable, 1=blue.\n",
    "\n",
    "Using the mean will allow our data to have even amount of reds and blues, which again will help avoid\n",
    "having one of the outputs outweight the other."
   ]
  },
  {
   "cell_type": "code",
   "execution_count": 78,
   "metadata": {},
   "outputs": [
    {
     "data": {
      "text/html": [
       "<table>\n",
       "<thead><tr><th scope=col>Red</th><th scope=col>Blue</th></tr></thead>\n",
       "<tbody>\n",
       "\t<tr><td>0  </td><td>470</td></tr>\n",
       "\t<tr><td>1  </td><td>530</td></tr>\n",
       "</tbody>\n",
       "</table>\n"
      ],
      "text/latex": [
       "\\begin{tabular}{r|ll}\n",
       " Red & Blue\\\\\n",
       "\\hline\n",
       "\t 0   & 470\\\\\n",
       "\t 1   & 530\\\\\n",
       "\\end{tabular}\n"
      ],
      "text/markdown": [
       "\n",
       "| Red | Blue |\n",
       "|---|---|\n",
       "| 0   | 470 |\n",
       "| 1   | 530 |\n",
       "\n"
      ],
      "text/plain": [
       "  Red Blue\n",
       "1 0   470 \n",
       "2 1   530 "
      ]
     },
     "metadata": {},
     "output_type": "display_data"
    }
   ],
   "source": [
    "\n",
    "#------------------------------------------------\n",
    "# Prepare Data\n",
    "#------------------------------------------------\n",
    "Recode<- function(y)\n",
    "{\n",
    "  \n",
    "  if(y>.4)\n",
    "  {y<-0}\n",
    "  \n",
    "  else{y<-1}\n",
    "}\n",
    "#apply function above to each row\n",
    "y_recode=as.data.frame(sapply(y,Recode))\n",
    "names(y_recode)<-c('yrecode')\n",
    "data<-cbind(data,y_recode)\n",
    "\n",
    "#create a table and rename col\n",
    "Freqtable<-data.frame(table(data$yrecode))\n",
    "colnames(Freqtable)<-c(\"Red\",\"Blue\")\n",
    "#print\n",
    "Freqtable"
   ]
  },
  {
   "cell_type": "markdown",
   "metadata": {},
   "source": [
    "### Choosing a Model\n",
    "Since we know what the actual model is , we will choose a linear model. Our initial guess for our model will\n",
    "be :\n",
    "\n",
    "\\begin{equation*}\n",
    "Y=0.5X_1+0.4X_2\n",
    "\\end{equation*}"
   ]
  },
  {
   "cell_type": "markdown",
   "metadata": {},
   "source": [
    "### Training \n",
    "<a id=\"train\"></a>\n",
    "Given our specification of the model above, we will use it on our training Data and get our output. This is\n",
    "simple just specify the columns for each of the independent variables, and then recode the output values as\n",
    "we did earlier. Try it out for youself before seeing the code in the next section."
   ]
  },
  {
   "cell_type": "markdown",
   "metadata": {},
   "source": [
    "### Evaluation\n",
    "\n",
    "This is where the bulk of the ML starts. We need to evaluate how well our initial model did against the\n",
    "training data. We are able to evaluate the preformance because we know the actual values of Y.\n",
    "In order to create a ML process , we will need to update our parameters given some Loss value. Loss\n",
    "would be the calculation of how many output variables we predicted incorrectly. Below I will write some ad\n",
    "psuedo code:"
   ]
  },
  {
   "cell_type": "markdown",
   "metadata": {},
   "source": [
    "<b>Example:</b> \n",
    "    function(Initial Values){ <br>\n",
    "parameters= Initial Values <br>\n",
    "RunModel(parameters) <br>\n",
    "if (LossValue gt epsilon) <br>\n",
    "{return Y} <br>\n",
    "else parameters<-updateValues}"
   ]
  },
  {
   "cell_type": "markdown",
   "metadata": {},
   "source": [
    "If we were to run this code it will give us the best predictive values,but it may take a very long time for\n",
    "us to get the LossValue below some threshold. Instead we will initialize the number of times we want it to\n",
    "run the iteration.\n",
    "First we will see how well our first guess, or initial values do in our linear model. With our initial guess\n",
    "we have predicted the correct values 77% of the time. Now lets build our ML model to iterate over different\n",
    "values of coe\u001e",
    "cients and find the one with the best accuracy.\n",
    "You will note that I have defined the size of the Accuracy and ypred vector prior to the loop, this is to\n",
    "save on speed and not have the vector changing size as the loop continues."
   ]
  },
  {
   "cell_type": "code",
   "execution_count": 80,
   "metadata": {},
   "outputs": [
    {
     "data": {
      "text/html": [
       "'The Accuracy is: 77.3 percent'"
      ],
      "text/latex": [
       "'The Accuracy is: 77.3 percent'"
      ],
      "text/markdown": [
       "'The Accuracy is: 77.3 percent'"
      ],
      "text/plain": [
       "[1] \"The Accuracy is: 77.3 percent\""
      ]
     },
     "metadata": {},
     "output_type": "display_data"
    }
   ],
   "source": [
    "#-------------------------\n",
    "#Training\n",
    "#-------------------------\n",
    "n=4\n",
    "intb1<-0.0\n",
    "intb2<-0.8\n",
    "Accuracy<-rep(0,n)\n",
    "ypred<-as.data.frame(matrix(0,nrow=nrow(data),ncol=n))\n",
    "\n",
    "b1<-intb1\n",
    "b2<-intb2\n",
    "\n",
    "ypred[,1]<-b1*data$x1+b2*data$x2\n",
    "#recode the predictions to a binary classification\n",
    "ypred[,1]<-as.data.frame(sapply(ypred[,1],Recode))\n",
    "data$ypred<-ypred[,1]\n",
    "Accuracy[1]<-mean(data$yrecode==ypred[,1])\n",
    "sprintf(\"The Accuracy is: %g percent\",Accuracy[1]*100)"
   ]
  },
  {
   "cell_type": "markdown",
   "metadata": {},
   "source": [
    "Next we will build our ML model. Let create a vector of the betas, called B, and also a vector or values\n",
    "that we will call A and C. The vector A and C will be used to update the values of B. The values in A and\n",
    "C were chosen arbitrarily. Since we know that the values of the original Y's before the tranformation are\n",
    "below 1, then the change in our beta should not be large and should also be below 1. Therefore we use two\n",
    "assumptions that in order to increase the accuracy either both betas increase or one does with the other\n",
    "decreases.\n",
    "\n",
    "Now for our function, it takes our initial guesses as inputs, then it transforms them starting with assumption\n",
    "A, again arbitrary choice. We begin our loop and calculate our new prediciton and its accuracy<a href=\"#ref1\">[1]</a>. If\n",
    "our new accuracy parameter is larger than the previous accuracy parameter from our training section then\n",
    "update using assumption A. Once the loop is done, we check which entry in our vector is the one with the\n",
    "highest accuracy and then we return the value as well as the corresponding ypred vector. Finally we run the\n",
    "code and view the data side by side , with our True Y values and our first prediciton.\n",
    "\n",
    "<font size=\"1\"><a id=\"ref1\">[1]</a>Our for loop starts from i=2 because our vector ypred's first column is the prediction from section <a href=\"#train\">Training</a>.</font>"
   ]
  },
  {
   "cell_type": "code",
   "execution_count": 120,
   "metadata": {},
   "outputs": [
    {
     "data": {
      "text/html": [
       "'The Accuracy is: 79.1 Percent'"
      ],
      "text/latex": [
       "'The Accuracy is: 79.1 Percent'"
      ],
      "text/markdown": [
       "'The Accuracy is: 79.1 Percent'"
      ],
      "text/plain": [
       "[1] \"The Accuracy is: 79.1 Percent\""
      ]
     },
     "metadata": {},
     "output_type": "display_data"
    }
   ],
   "source": [
    "#initial values\n",
    "\n",
    "n<-4\n",
    "B<-rbind(intb1,intb2)\n",
    "A<-matrix(c(0.05,-0.1),nrow=2,ncol=1)\n",
    "C<-matrix(c(0.1,0.1),nrow=2,ncol=1)\n",
    "\n",
    "ML<-function(intb1,intb2){\n",
    "    B<-B+A\n",
    "    #number of iteration, to change the parameters\n",
    "    for(i in 2:n)\n",
    "    {\n",
    "        ypred[,i]<-B[1]*data$x1+B[2]*data$x2\n",
    "        # recode to a binary variable\n",
    "        ypred[,i]<-as.data.frame(sapply(ypred[,i],Recode))\n",
    "        Accuracy[i]<-mean(data$yrecode==ypred[,i])\n",
    "        \n",
    "        #condition if the new accuracy is better than the previous\n",
    "        #continue on the A path otherwise switch to C\n",
    "        if(Accuracy[i]>=Accuracy[i-1])\n",
    "            {B<-B+A\n",
    "            }else{B<-C+B}\n",
    "    #loop ends    \n",
    "    }\n",
    "    \n",
    "    #grab the position of the largest accuracy\n",
    "    position<-which.max(Accuracy)\n",
    "    #return the values\n",
    "    max_val<-Accuracy[position]\n",
    "    #print solution\n",
    "    solution<-c(ypred[,position],sprintf(\"The Accuracy is: %g Percent\", (max_val*100)))\n",
    "    #return the value\n",
    "    return(solution)\n",
    "}\n",
    "\n",
    "#save the results into parameter\n",
    "Lin.sol<-as.data.frame(ML(intb1,intb2))\n",
    "data$ypred1<-Lin.sol[1:nrow(data),1]\n",
    "\n",
    "#view\n",
    "as.character(Lin.sol[nrow(data)+1,1])"
   ]
  },
  {
   "cell_type": "markdown",
   "metadata": {},
   "source": [
    "### Visualization\n",
    "\n",
    "Lets visualize the data above. We are going to plot the datapoints with the decision that any $y > 0.4$ is going to be red. Thus $0.4 = g(x1; x2)$ is our decision boundary.\n",
    "\n",
    "\\begin{equation*}\n",
    "0.4 = g(x1; x2)= 0.5x_1+0.4x_2\n",
    "\\end{equation*}\n",
    "\n",
    "and solving for $x_2$:\n",
    "\n",
    "\\begin{equation*}\n",
    "x_2=1-\\frac{0.5}{0.4}x_1\n",
    "\\end{equation*}"
   ]
  },
  {
   "cell_type": "code",
   "execution_count": 123,
   "metadata": {},
   "outputs": [
    {
     "data": {
      "image/png": "[encoded data removed]",
      "text/plain": [
       "plot without title"
      ]
     },
     "metadata": {},
     "output_type": "display_data"
    }
   ],
   "source": [
    "suppressWarnings(library(ggplot2))\n",
    "ggplot(data=test,aes(x1,x2))+\n",
    "geom_point(aes(color=as.factor(yrecode)))+\n",
    "labs(title=\"Linear Decision Boundary\",caption=\"some points are misclassfied at the boundary line.\")+\n",
    "scale_colour_discrete(name='binary variable')+\n",
    "theme(text=element_text(size=15))+\n",
    "#intercept (bounday - b0)/b2\n",
    "#slope -(b2/b1)\n",
    "geom_abline(intercept=1,slope=-(0.5/0.4))"
   ]
  },
  {
   "cell_type": "markdown",
   "metadata": {},
   "source": [
    "### Parameter Tuning\n",
    "\n",
    "Our ML model from the previous section did pretty well, it was able to predict our training data set 81.9%\n",
    "of the time. But can we do any better?\n",
    "Lets go back to our intrductory course of Econometrics, where we use optimization to get the values of $\\beta$ by minimizing least squares.\n",
    "\n",
    "\\begin{equation*}\n",
    "argmin_{\\beta \\epsilon B} = \\sum_{i=1}^N (y_i - x_t^T \\beta)^2= (\\textbf{y-X}\\beta)^T(\\textbf{y-X}\\beta)\n",
    "\\end{equation*}\n",
    "if $X^TX$ is nonsingular, then the solution will be unique:\n",
    "\n",
    "\\begin{equation*}\n",
    "\\hat{\\beta}=(\\textbf{X}^T\\textbf{X})^{-1}\\textbf{X}^T\\textbf{y}\n",
    "\\end{equation*}\n"
   ]
  },
  {
   "cell_type": "code",
   "execution_count": 136,
   "metadata": {},
   "outputs": [
    {
     "data": {
      "text/html": [
       "<dl class=dl-horizontal>\n",
       "\t<dt>x1</dt>\n",
       "\t\t<dd>0.5</dd>\n",
       "\t<dt>x2</dt>\n",
       "\t\t<dd>0.4</dd>\n",
       "</dl>\n"
      ],
      "text/latex": [
       "\\begin{description*}\n",
       "\\item[x1] 0.5\n",
       "\\item[x2] 0.4\n",
       "\\end{description*}\n"
      ],
      "text/markdown": [
       "x1\n",
       ":   0.5x2\n",
       ":   0.4\n",
       "\n"
      ],
      "text/plain": [
       " x1  x2 \n",
       "0.5 0.4 "
      ]
     },
     "metadata": {},
     "output_type": "display_data"
    },
    {
     "data": {
      "text/html": [
       "'The Accuracy is: 100 percent'"
      ],
      "text/latex": [
       "'The Accuracy is: 100 percent'"
      ],
      "text/markdown": [
       "'The Accuracy is: 100 percent'"
      ],
      "text/plain": [
       "[1] \"The Accuracy is: 100 percent\""
      ]
     },
     "metadata": {},
     "output_type": "display_data"
    }
   ],
   "source": [
    "#-----------------\n",
    "#parameter tunning\n",
    "#-----------------\n",
    "library(MASS)\n",
    "#Linear Regression\n",
    "fit<-lm(y~x1+x2-1,data)\n",
    "fit$coefficients\n",
    "\n",
    "# Accuracy of the model\n",
    "b1<-fit$coefficients[1]\n",
    "b2<-fit$coefficients[2]\n",
    "\n",
    "y_hat<-b1*x1+b2*x2\n",
    "data_tune<-as.data.frame(cbind(y_recode,x1,x2))\n",
    "data_tune$pred_y<-sapply(y_hat,Recode)\n",
    "names(data_tune)<-c('True_y','X1','X2','Pred_y')\n",
    "\n",
    "sprintf(\"The Accuracy is: %g percent\",mean(data_tune$True_y==data_tune$Pred_y)*100)"
   ]
  },
  {
   "cell_type": "markdown",
   "metadata": {},
   "source": [
    "The resulting accuracy is 100%. Why?\n",
    "\n",
    "Because we have all the information needed to accurately fit the model. In practice, we do not have all the features neccessary to fit a model. Therefore our linear regression will have some random error which represents other factors that impact the target variable ($y$) but that we are unable to account for."
   ]
  },
  {
   "cell_type": "markdown",
   "metadata": {},
   "source": [
    "## Exercise\n",
    "\n",
    "<div class=\"alert alert-block alert-info\">\n",
    "Build a table showing the count of each value of Y and\n",
    "how well the prection did against it.\n",
    "</div>"
   ]
  },
  {
   "cell_type": "markdown",
   "metadata": {},
   "source": [
    "## K - Nearest Neighborhood Method\n",
    "\n",
    "In its simplist form (classification), uses $x_i$ K Nearest Neighbors to vote on what $x_i$s label should be. If\n",
    "this were a quantitative output, it could be the mean of the K- Nearest Neighbors.\n",
    "For out example above which is quantitative, and the range of the independent variables are similar by\n",
    "choice, we can use the Euclidean distance for our algorithm. There are other methods to view the distance\n",
    "such as Manhattan and Minkowski. There is also the Hamming Distance for categorical variables.\n",
    "\\begin{equation*}\n",
    "Euclidean =\\sqrt{\\sum (qi-pi)2}\n",
    "\\end{equation*}\n",
    "Choosing k\n",
    "-Increasing k reduces variances, but increases the bias\n",
    "Lets assume our Y is a quantity. Therefore, we choose $\\hat{Y}$ such that:\n",
    "\n",
    "\\begin{equation*}\n",
    "\\hat{Y}=\\frac{1}{k}\\sum_{x_i \\epsilon N-k(x)}y_i,\n",
    "\\end{equation*}\n",
    "\n",
    "The k- nearest neighbor fit $\\hat{Y}$ where $N_k(x)$ is the neighborhood of x which is defined by the k closest\n",
    "points in the training sample. The closeness is defined by the Euclidean distance above.\n",
    "For our example above which is defined as a dummy variable, where 1=\"Blue\" and 0=\"Red\" our  $\\hat{Y}$ is:\n",
    "\\begin{equation*}\n",
    "\\hat{Y}= \\frac{Blue \\sum_{x_i \\epsilon N-k(x)}y_i = \"Blue\" > \\sum_{x_i \\epsilon N-k(x)}y_i =\"Red\" }{Red \\space else} \n",
    "\\end{equation*}\n",
    "\n",
    "Some Cons of this method: To determine the nearest neighbor of a new point x, must compute the\n",
    "distance to all m training examples. Runtime performance is slow."
   ]
  },
  {
   "cell_type": "markdown",
   "metadata": {},
   "source": [
    "### KNN Algorithm Pseudocode:\n",
    "\n",
    "1. Calculate $d(x,x_i) \\forall i \\space \\epsilon \\space (1,2...,n);$ where d denotes the Euclidean distance between points.\n",
    "2. Sort the distrances in non-descending order\n",
    "3. Let $k$ be a positive integer, take the first k distances from the list in step 2.\n",
    "4. Find those $k$- points corresponding to these k-distances.\n",
    "5. Let $k_i$ denote the number of points belonging to the $i^{th}$ class among k points.\n",
    "6. if $k_i>k_j \\space \\forall i \\ne j$ then put x in class i."
   ]
  },
  {
   "cell_type": "markdown",
   "metadata": {},
   "source": [
    "### Gathering Data\n",
    "\n",
    "This will be exactly the same as section 2."
   ]
  },
  {
   "cell_type": "markdown",
   "metadata": {},
   "source": [
    "### Data Preperation\n",
    "The only difference from section one is that we are going to split the data to have a test and training model.\n",
    "The split we will use is one-third is our test data and the other will be the train data."
   ]
  },
  {
   "cell_type": "code",
   "execution_count": 137,
   "metadata": {},
   "outputs": [],
   "source": [
    "# Train and Test Data Split \n",
    "\n",
    "set.seed(130)\n",
    "ind<-sample(2,nrow(data),replace=TRUE,prob=c(0.67,0.33))\n",
    "train<-data[ind==1,2:3]\n",
    "test2<-data[ind==2,2:3]\n",
    "\n",
    "test2.results<-data[ind==2,1]"
   ]
  },
  {
   "cell_type": "markdown",
   "metadata": {},
   "source": [
    "### Choose Model and Training\n",
    "\n",
    "We will choose the KNN model, but instead of using the imbedded Knn function we will build it from scratch.\n",
    "Suppose we have the following data. The one on the left represents our train data, and the right our test\n",
    "data.\n",
    "\n",
    "| x<sub>1</sub>   |      g<sub>1</sub>     |  |  x<sub>2</sub> | g<sub>2</sub>|\n",
    "|----------|:-------------:|   |:------:|-------:|\n",
    "| x<sub>11</sub> |  g<sub>11</sub> |       | x<sub>21</sub> |g<sub>21</sub>|\n",
    "| x<sub>12</sub> |  g<sub>12</sub>|      |   x<sub>22</sub> |g<sub>22</sub>|\n",
    "|x<sub>13</sub> |  g<sub>13</sub>||   |||\n",
    "\n",
    "From our function of Euclidean distance we want the following outcomes, Dist_1 is the list of distance\n",
    "of our first obsevation in our test data against all the points in the train data, conversely Dist_2 is for the second observation.\n",
    "<table>\n",
    "      <col width=\"250\">\n",
    "  <col width=\"250\">\n",
    "<tr>\n",
    "<th>Distance 1</th>\n",
    "<th>Distance 2</th>\n",
    "</tr>\n",
    "<tr>\n",
    "<td>\\begin{equation*}d_{11}=\\sqrt{(x_{21}-x{11})^2+(g_{21}-g{11})^2}\\end{equation*}</td>\n",
    "<td>\\begin{equation*}d_{21}=\\sqrt{(x_{22}-x{11})^2+(g_{22}-g{11})^2}\\end{equation*}</td>\n",
    "</tr>\n",
    "<tr>\n",
    "<td> \\begin{equation*}d_{12}=\\sqrt{(x_{21}-x{12})^2+(g_{21}-g{12})^2}\\end{equation*}</td>\n",
    "<td>\\begin{equation*}d_{22}=\\sqrt{(x_{22}-x{12})^2+(g_{22}-g{12})^2}\\end{equation*} </td>\n",
    "</tr>\n",
    "<tr>\n",
    "<td>\\begin{equation*}d_{13}=\\sqrt{(x_{21}-x{13})^2+(g_{21}-g{13})^2}\\end{equation*}</td>\n",
    "<td>\\begin{equation*}d_{23}=\\sqrt{(x_{22}-x{13})^2+(g_{22}-g{13})^2}\\end{equation*}</td>\n",
    "</tr>\n",
    "</table>\n",
    "\n",
    "Lets Begin our code, first lets start with the first observation $i = 1$ and calculate the distance for all the rows of our train table, j $\\epsilon$(1 :# of rows of train data).\n",
    "\n",
    "We begin our for loop with observation $j= 1$ which corresponds to $d_{11}$. The second line is taking the $i^{th}$\n",
    "and $j^{th}$ row of our test and trian table, explicity rows 1. Then the operation is a entry by entry operation.\n",
    "In essence test2\\[1, \\] would return \\[$x_{21}g_{21}$\\] and similarly for train\\[1, \\]. Now c would contain \\[$(x_{21} - x_{11})^2(g_{21} - g_{11})^2$\\] as a vector. Finally the last line just extracts the two values and sums them to finish the\n",
    "Euclidean Distance formula. This would be iterated until the entire column Dist_1 is filled.\n",
    "\n",
    "Next we will order our distance in non-decresing order and take the k closest points. After the k closest\n",
    "points are obtained, we will average the points, since it is just a grid of zeros or ones. Next we de\u001c",
    "ne a rule for prediction, the basic rule is that if the average is over 50% then pred=1, since that means that there were more values of 1 than 0, otherwise set pred=0. Ok now we just predicted the first observation of our test data.\n",
    "\n",
    "<table>\n",
    "      <col width=\"250\">\n",
    "<tr>\n",
    "<th>Pred</th>\n",
    "</tr>\n",
    "<tr>\n",
    "    <td>Pred_1=result</td>\n",
    "    </tr>\n",
    "<tr>\n",
    "<td>Pred_2</td>\n",
    "</tr>\n",
    "</table>\n",
    "\n",
    "The final step is to do this for the rest of the rows of the test data. Hence our for loop above, will be\n",
    "nested in another for loop for all the $i \\space \\epsilon \\space$(1 :# of rows of test data). Our complete Knn prediction function looks like this and we will also time how long it takes for our code to run through our test and train set, it took the computer 404 seconds to execute the command. The reason it took about ~7 mins\n",
    "is because for-loops are inefficient and the loop is \\[running number of row(test2) $\\cdot$ number of rows(train)\\] calculations , not including the time to sort data."
   ]
  },
  {
   "cell_type": "code",
   "execution_count": 138,
   "metadata": {},
   "outputs": [
    {
     "data": {
      "text/plain": [
       "   user  system elapsed \n",
       " 404.57    0.64  410.53 "
      ]
     },
     "metadata": {},
     "output_type": "display_data"
    }
   ],
   "source": [
    "#------------------------------------------------\n",
    "# Choose Model and Training\n",
    "#------------------------------------------------\n",
    "#------------------------\n",
    "# Build KNN From Scratch\n",
    "#------------------------\n",
    "\n",
    "#defining variables before hand\n",
    "\n",
    "pred<-as.data.frame(matrix(0,nrow=nrow(test2),1))\n",
    "eu_dist<-as.data.frame(matrix(0,nrow=nrow(train),1)) \n",
    "e<-eu_dist\n",
    "eu_dist<-cbind(eu_dist,data[ind==1,4])\n",
    "k<-3\n",
    "\n",
    "knn_predict <- function(test2,train,k){\n",
    "  \n",
    "  #Loop 1\n",
    "  \n",
    "  for(i in (1:nrow(test2))){\n",
    "    \n",
    "    \n",
    "    #Loop 2\n",
    "    for(j in (1:nrow(train))){\n",
    "      # Perform Euclidean Dist\n",
    "      c<-(test2[i,]-train[j,])^2\n",
    "      eu_dist[j,1]<-c[1]+c[2]\n",
    "    }\n",
    "    #order distance in non-decreasing order\n",
    "    e<-eu_dist\n",
    "    e<-e[order(e$V1),]\n",
    "    #lets take the k closest points\n",
    "    e<-e[1:k,2]\n",
    "    # lets take the average of these points\n",
    "    s<-sum(e)/k\n",
    "    #rule for prediction\n",
    "    if(s>0.5)\n",
    "    {pred[i,]<-1 \n",
    "    }else {pred[i,]<-0}\n",
    "  }\n",
    "  return(pred)\n",
    "}\n",
    "\n",
    "#Start Clock\n",
    "ptm<-proc.time()\n",
    "# Run Code\n",
    "Y_Pred<-knn_predict(test2,train,k)\n",
    "#Stop Clock\n",
    "proc.time()-ptm"
   ]
  },
  {
   "cell_type": "markdown",
   "metadata": {},
   "source": [
    "### Evaluation\n",
    "Let check how well our model will predict out test set. We see that we are able to predict 97% of the output correctly."
   ]
  },
  {
   "cell_type": "code",
   "execution_count": 141,
   "metadata": {},
   "outputs": [
    {
     "data": {
      "text/html": [
       "97.1014492753623"
      ],
      "text/latex": [
       "97.1014492753623"
      ],
      "text/markdown": [
       "97.1014492753623"
      ],
      "text/plain": [
       "[1] 97.10145"
      ]
     },
     "metadata": {},
     "output_type": "display_data"
    }
   ],
   "source": [
    "#------------------------------------------------\n",
    "# Evaluation\n",
    "#------------------------------------------------\n",
    "test2.results<-sapply(test2.results, function(x){Recode(x)})\n",
    "Y_Actu<-as.data.frame(test2.results)\n",
    "mean(Y_Pred == Y_Actu)*100"
   ]
  },
  {
   "cell_type": "markdown",
   "metadata": {},
   "source": [
    "### Parameter Tuning\n",
    "\n",
    "Below we optimization the computational time (we will only use one loop instead, sweep() helps us avoid a loop), Notice that using the same data it only took 1.92 seconds to solve, and we checked that the results are the same, which they are!"
   ]
  },
  {
   "cell_type": "code",
   "execution_count": 143,
   "metadata": {},
   "outputs": [
    {
     "data": {
      "text/plain": [
       "   user  system elapsed \n",
       "   1.08    0.00    1.17 "
      ]
     },
     "metadata": {},
     "output_type": "display_data"
    },
    {
     "data": {
      "text/html": [
       "100"
      ],
      "text/latex": [
       "100"
      ],
      "text/markdown": [
       "100"
      ],
      "text/plain": [
       "[1] 100"
      ]
     },
     "metadata": {},
     "output_type": "display_data"
    }
   ],
   "source": [
    "#defining variables before hand\n",
    "\n",
    "pred<-as.data.frame(matrix(0,nrow=nrow(test2),1))\n",
    "e_dist<-as.data.frame(matrix(0,nrow=nrow(train),1)) \n",
    "e<-e_dist\n",
    "e_dist<-cbind(e_dist,data[ind==1,4])\n",
    "k<-3\n",
    "# we will transpose the data in order to run it in the function sweep()\n",
    "test3<-t(test2)\n",
    "#---------------\n",
    "\n",
    "knn_predict2<-function(test3,train,k){\n",
    "  for (i in (1:nrow(test2))){\n",
    "    #Euclidean Dist\n",
    "    \n",
    "    #sweep with subtract the ith column of test3 (which is just the ith row of test2) \n",
    "    # from all rows in train data set\n",
    "    subtrct<-sweep(-train[,],2,-test3[,i])\n",
    "    # next we will square element by element\n",
    "    subtrct<-subtrct^2\n",
    "    # then we add each value as we did for line 69 above\n",
    "    e_dist[,1]<-as.data.frame(subtrct[,1]+subtrct[,2])\n",
    "    e<-e_dist\n",
    "    #order\n",
    "    colnames(e)[1]<-\"V1\"\n",
    "    e<-e[order(e$V1),]\n",
    "    #lets take the k closest points\n",
    "    e<-e[1:k,2]\n",
    "    # lets take the average of these points\n",
    "    s<-sum(e)/k\n",
    "    #rule for prediction\n",
    "    if(s>0.5)\n",
    "    {pred[i,]<-1 \n",
    "    }else {pred[i,]<-0}\n",
    "  }\n",
    "  return(pred)\n",
    "}\n",
    "\n",
    "#Start Clock\n",
    "ptm<-proc.time()\n",
    "# Run Code\n",
    "Y_Pred2<-knn_predict2(test3,train,k)\n",
    "#Stop Clock\n",
    "proc.time()-ptm\n",
    "\n",
    "#check if the results are the same as the first formula\n",
    "mean(Y_Pred==Y_Pred2)*100"
   ]
  },
  {
   "cell_type": "markdown",
   "metadata": {},
   "source": [
    "## Additional Notes:\n",
    "\n",
    "There are built in function that will perform our KNN algorithm, you can install.package(\"class\") for the\n",
    "knn() function.\n",
    "There is also a package called \"caret\" which hold an abundance of ML models. Check it out"
   ]
  },
  {
   "cell_type": "markdown",
   "metadata": {},
   "source": [
    "# Conclusion\n",
    "\n",
    "In this post we have introduced the concept of supervised learning, and worked on two techniques (Linear Regression and KNN). Keep in mind that these are no the only supervised learning technique. "
   ]
  }
 ],
 "metadata": {
  "kernelspec": {
   "display_name": "R",
   "language": "R",
   "name": "ir"
  },
  "language_info": {
   "codemirror_mode": "r",
   "file_extension": ".r",
   "mimetype": "text/x-r-source",
   "name": "R",
   "pygments_lexer": "r",
   "version": "3.6.1"
  },
  "toc": {
   "base_numbering": 1,
   "nav_menu": {},
   "number_sections": true,
   "sideBar": true,
   "skip_h1_title": false,
   "title_cell": "Table of Contents",
   "title_sidebar": "Contents",
   "toc_cell": true,
   "toc_position": {
    "height": "calc(100% - 180px)",
    "left": "10px",
    "top": "150px",
    "width": "165px"
   },
   "toc_section_display": true,
   "toc_window_display": true
  }
 },
 "nbformat": 4,
 "nbformat_minor": 4
}
